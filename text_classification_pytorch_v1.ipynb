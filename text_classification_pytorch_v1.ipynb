{
 "cells": [
  {
   "cell_type": "markdown",
   "metadata": {},
   "source": [
    "# Text Classification with Pytorch"
   ]
  },
  {
   "cell_type": "markdown",
   "metadata": {},
   "source": [
    "- [Spam Ham Classification](https://www.kaggle.com/aaditkapoor1201/pytorch-spam-ham-classification)\n",
    "\n",
    "## Understanding Checkpoint\n",
    "\n",
    "- [saving-loading-your-model-in-pytorch](https://medium.com/udacity-pytorch-challengers/saving-loading-your-model-in-pytorch-741b80daf3c)\n",
    "- [checkpointing-tutorial-for-tensorflow-keras-and-pytorch](https://blog.floydhub.com/checkpointing-tutorial-for-tensorflow-keras-and-pytorch/)"
   ]
  },
  {
   "cell_type": "code",
   "execution_count": 1,
   "metadata": {},
   "outputs": [],
   "source": [
    "%matplotlib inline\n",
    "import torch\n",
    "import re\n",
    "import pandas as pd\n",
    "import numpy as np\n",
    "from matplotlib import pyplot as plt\n",
    "import spacy #load spacy"
   ]
  },
  {
   "cell_type": "code",
   "execution_count": 2,
   "metadata": {},
   "outputs": [],
   "source": [
    "import torch.nn.functional as F"
   ]
  },
  {
   "cell_type": "code",
   "execution_count": 3,
   "metadata": {},
   "outputs": [],
   "source": [
    "from torch import nn\n",
    "from torch.autograd import Variable"
   ]
  },
  {
   "cell_type": "code",
   "execution_count": 4,
   "metadata": {},
   "outputs": [
    {
     "name": "stderr",
     "output_type": "stream",
     "text": [
      "Using TensorFlow backend.\n"
     ]
    }
   ],
   "source": [
    "from keras.preprocessing.text import Tokenizer\n",
    "import warnings\n",
    "warnings.filterwarnings(\"ignore\")"
   ]
  },
  {
   "cell_type": "code",
   "execution_count": 5,
   "metadata": {},
   "outputs": [],
   "source": [
    "DATA_DIR = \"/home/sankarshan/Documents/code/dataset/textdata/\"\n",
    "DIR_model = \"/home/sankarshan/Documents/code/nlproc/models/\""
   ]
  },
  {
   "cell_type": "code",
   "execution_count": 6,
   "metadata": {},
   "outputs": [
    {
     "name": "stdout",
     "output_type": "stream",
     "text": [
      "total 354M\r\n",
      " 64M -rwxrwxrwx 1 sankarshan sankarshan  64M Mar  9  2019 IMDB_Dataset.csv\r\n",
      "956K -rw-r--r-- 1 sankarshan sankarshan 956K May  8 21:48 ml-latest-small.zip\r\n",
      "265M -rw-r--r-- 1 sankarshan sankarshan 265M May  8 21:50 ml-latest.zip\r\n",
      "4.0K -rw-r--r-- 1 sankarshan sankarshan   71 Oct 19 23:39 README.md\r\n",
      " 26M -rw-rw-r-- 1 sankarshan sankarshan  26M Oct 19 23:42 imdb-dataset-of-50k-movie-reviews.zip\r\n",
      "4.0K drwxr-xr-x 2 sankarshan sankarshan 4.0K Oct 19 23:43 ml-latest-small\r\n"
     ]
    }
   ],
   "source": [
    "!ls -lshrt {DATA_DIR}"
   ]
  },
  {
   "cell_type": "code",
   "execution_count": 7,
   "metadata": {},
   "outputs": [],
   "source": [
    "df = pd.read_csv(DATA_DIR+'IMDB_Dataset.csv')"
   ]
  },
  {
   "cell_type": "code",
   "execution_count": 8,
   "metadata": {},
   "outputs": [
    {
     "data": {
      "text/html": [
       "<div>\n",
       "<style scoped>\n",
       "    .dataframe tbody tr th:only-of-type {\n",
       "        vertical-align: middle;\n",
       "    }\n",
       "\n",
       "    .dataframe tbody tr th {\n",
       "        vertical-align: top;\n",
       "    }\n",
       "\n",
       "    .dataframe thead th {\n",
       "        text-align: right;\n",
       "    }\n",
       "</style>\n",
       "<table border=\"1\" class=\"dataframe\">\n",
       "  <thead>\n",
       "    <tr style=\"text-align: right;\">\n",
       "      <th></th>\n",
       "      <th>review</th>\n",
       "      <th>sentiment</th>\n",
       "    </tr>\n",
       "  </thead>\n",
       "  <tbody>\n",
       "    <tr>\n",
       "      <th>0</th>\n",
       "      <td>One of the other reviewers has mentioned that ...</td>\n",
       "      <td>positive</td>\n",
       "    </tr>\n",
       "    <tr>\n",
       "      <th>1</th>\n",
       "      <td>A wonderful little production. &lt;br /&gt;&lt;br /&gt;The...</td>\n",
       "      <td>positive</td>\n",
       "    </tr>\n",
       "    <tr>\n",
       "      <th>2</th>\n",
       "      <td>I thought this was a wonderful way to spend ti...</td>\n",
       "      <td>positive</td>\n",
       "    </tr>\n",
       "    <tr>\n",
       "      <th>3</th>\n",
       "      <td>Basically there's a family where a little boy ...</td>\n",
       "      <td>negative</td>\n",
       "    </tr>\n",
       "    <tr>\n",
       "      <th>4</th>\n",
       "      <td>Petter Mattei's \"Love in the Time of Money\" is...</td>\n",
       "      <td>positive</td>\n",
       "    </tr>\n",
       "  </tbody>\n",
       "</table>\n",
       "</div>"
      ],
      "text/plain": [
       "                                              review sentiment\n",
       "0  One of the other reviewers has mentioned that ...  positive\n",
       "1  A wonderful little production. <br /><br />The...  positive\n",
       "2  I thought this was a wonderful way to spend ti...  positive\n",
       "3  Basically there's a family where a little boy ...  negative\n",
       "4  Petter Mattei's \"Love in the Time of Money\" is...  positive"
      ]
     },
     "execution_count": 8,
     "metadata": {},
     "output_type": "execute_result"
    }
   ],
   "source": [
    "df.head()"
   ]
  },
  {
   "cell_type": "code",
   "execution_count": 9,
   "metadata": {},
   "outputs": [],
   "source": [
    "def clean_review(text):\n",
    "    # Strip HTML tags\n",
    "    text = re.sub('<[^<]+?>', ' ', text)\n",
    " \n",
    "    # Strip escaped quotes\n",
    "    text = text.replace('\\\\\"', '')\n",
    " \n",
    "    # Strip quotes\n",
    "    text = text.replace('\"', '')\n",
    "    \n",
    "    text = text.lower()\n",
    " \n",
    "    return text\n",
    "\n",
    "def normalize(comment, lowercase=True):\n",
    "    if lowercase:\n",
    "        comment = comment.lower()\n",
    "    comment = nlp(comment)\n",
    "    lemmatized = list()\n",
    "    for word in comment:\n",
    "        if not word.is_stop:\n",
    "            lemma = word.lemma_.strip()\n",
    "            lemmatized.append(lemma)\n",
    "        \n",
    "    return \" \".join(lemmatized)\n"
   ]
  },
  {
   "cell_type": "code",
   "execution_count": 10,
   "metadata": {},
   "outputs": [],
   "source": [
    "nlp = spacy.load(\"en_core_web_sm\", disable=['parser', 'tagger', 'ner'])\n",
    "spacy_stopwords = spacy.lang.en.stop_words.STOP_WORDS"
   ]
  },
  {
   "cell_type": "code",
   "execution_count": 11,
   "metadata": {},
   "outputs": [
    {
     "name": "stdout",
     "output_type": "stream",
     "text": [
      "CPU times: user 1min 25s, sys: 170 ms, total: 1min 25s\n",
      "Wall time: 1min 25s\n"
     ]
    }
   ],
   "source": [
    "%%time\n",
    "df['cleaned_review'] = df['review'].apply(clean_review)\n",
    "df['normalized_review'] = df['cleaned_review'].apply(normalize) "
   ]
  },
  {
   "cell_type": "code",
   "execution_count": 12,
   "metadata": {},
   "outputs": [
    {
     "data": {
      "text/html": [
       "<div>\n",
       "<style scoped>\n",
       "    .dataframe tbody tr th:only-of-type {\n",
       "        vertical-align: middle;\n",
       "    }\n",
       "\n",
       "    .dataframe tbody tr th {\n",
       "        vertical-align: top;\n",
       "    }\n",
       "\n",
       "    .dataframe thead th {\n",
       "        text-align: right;\n",
       "    }\n",
       "</style>\n",
       "<table border=\"1\" class=\"dataframe\">\n",
       "  <thead>\n",
       "    <tr style=\"text-align: right;\">\n",
       "      <th></th>\n",
       "      <th>review</th>\n",
       "      <th>sentiment</th>\n",
       "      <th>cleaned_review</th>\n",
       "      <th>normalized_review</th>\n",
       "    </tr>\n",
       "  </thead>\n",
       "  <tbody>\n",
       "    <tr>\n",
       "      <th>0</th>\n",
       "      <td>One of the other reviewers has mentioned that ...</td>\n",
       "      <td>positive</td>\n",
       "      <td>one of the other reviewers has mentioned that ...</td>\n",
       "      <td>reviewer mention watch 1 oz episode hook . rig...</td>\n",
       "    </tr>\n",
       "    <tr>\n",
       "      <th>1</th>\n",
       "      <td>A wonderful little production. &lt;br /&gt;&lt;br /&gt;The...</td>\n",
       "      <td>positive</td>\n",
       "      <td>a wonderful little production.   the filming t...</td>\n",
       "      <td>wonderful little production .  film technique ...</td>\n",
       "    </tr>\n",
       "    <tr>\n",
       "      <th>2</th>\n",
       "      <td>I thought this was a wonderful way to spend ti...</td>\n",
       "      <td>positive</td>\n",
       "      <td>i thought this was a wonderful way to spend ti...</td>\n",
       "      <td>think wonderful way spend time hot summer week...</td>\n",
       "    </tr>\n",
       "    <tr>\n",
       "      <th>3</th>\n",
       "      <td>Basically there's a family where a little boy ...</td>\n",
       "      <td>negative</td>\n",
       "      <td>basically there's a family where a little boy ...</td>\n",
       "      <td>basically family little boy ( jake ) think zom...</td>\n",
       "    </tr>\n",
       "    <tr>\n",
       "      <th>4</th>\n",
       "      <td>Petter Mattei's \"Love in the Time of Money\" is...</td>\n",
       "      <td>positive</td>\n",
       "      <td>petter mattei's love in the time of money is a...</td>\n",
       "      <td>petter mattei love time money visually stun fi...</td>\n",
       "    </tr>\n",
       "  </tbody>\n",
       "</table>\n",
       "</div>"
      ],
      "text/plain": [
       "                                              review sentiment  \\\n",
       "0  One of the other reviewers has mentioned that ...  positive   \n",
       "1  A wonderful little production. <br /><br />The...  positive   \n",
       "2  I thought this was a wonderful way to spend ti...  positive   \n",
       "3  Basically there's a family where a little boy ...  negative   \n",
       "4  Petter Mattei's \"Love in the Time of Money\" is...  positive   \n",
       "\n",
       "                                      cleaned_review  \\\n",
       "0  one of the other reviewers has mentioned that ...   \n",
       "1  a wonderful little production.   the filming t...   \n",
       "2  i thought this was a wonderful way to spend ti...   \n",
       "3  basically there's a family where a little boy ...   \n",
       "4  petter mattei's love in the time of money is a...   \n",
       "\n",
       "                                   normalized_review  \n",
       "0  reviewer mention watch 1 oz episode hook . rig...  \n",
       "1  wonderful little production .  film technique ...  \n",
       "2  think wonderful way spend time hot summer week...  \n",
       "3  basically family little boy ( jake ) think zom...  \n",
       "4  petter mattei love time money visually stun fi...  "
      ]
     },
     "execution_count": 12,
     "metadata": {},
     "output_type": "execute_result"
    }
   ],
   "source": [
    "df.head()"
   ]
  },
  {
   "cell_type": "code",
   "execution_count": 13,
   "metadata": {},
   "outputs": [
    {
     "data": {
      "text/plain": [
       "\"One of the other reviewers has mentioned that after watching just 1 Oz episode you'll be hooked. They are right, as this is exactly what happened with me.<br /><br />The first thing that struck me about Oz was its brutality and unflinching scenes of violence, which set in right from the word GO. Trust me, this is not a show for the faint hearted or timid. This show pulls no punches with regards to drugs, sex or violence. Its is hardcore, in the classic use of the word.<br /><br />It is called OZ as that is the nickname given to the Oswald Maximum Security State Penitentary. It focuses mainly on Emerald City, an experimental section of the prison where all the cells have glass fronts and face inwards, so privacy is not high on the agenda. Em City is home to many..Aryans, Muslims, gangstas, Latinos, Christians, Italians, Irish and more....so scuffles, death stares, dodgy dealings and shady agreements are never far away.<br /><br />I would say the main appeal of the show is due to the fact that it goes where other shows wouldn't dare. Forget pretty pictures painted for mainstream audiences, forget charm, forget romance...OZ doesn't mess around. The first episode I ever saw struck me as so nasty it was surreal, I couldn't say I was ready for it, but as I watched more, I developed a taste for Oz, and got accustomed to the high levels of graphic violence. Not just violence, but injustice (crooked guards who'll be sold out for a nickel, inmates who'll kill on order and get away with it, well mannered, middle class inmates being turned into prison bitches due to their lack of street skills or prison experience) Watching Oz, you may become comfortable with what is uncomfortable viewing....thats if you can get in touch with your darker side.\""
      ]
     },
     "execution_count": 13,
     "metadata": {},
     "output_type": "execute_result"
    }
   ],
   "source": [
    "df.iloc[0, 0]"
   ]
  },
  {
   "cell_type": "code",
   "execution_count": 14,
   "metadata": {},
   "outputs": [
    {
     "data": {
      "text/plain": [
       "\"one of the other reviewers has mentioned that after watching just 1 oz episode you'll be hooked. they are right, as this is exactly what happened with me.  the first thing that struck me about oz was its brutality and unflinching scenes of violence, which set in right from the word go. trust me, this is not a show for the faint hearted or timid. this show pulls no punches with regards to drugs, sex or violence. its is hardcore, in the classic use of the word.  it is called oz as that is the nickname given to the oswald maximum security state penitentary. it focuses mainly on emerald city, an experimental section of the prison where all the cells have glass fronts and face inwards, so privacy is not high on the agenda. em city is home to many..aryans, muslims, gangstas, latinos, christians, italians, irish and more....so scuffles, death stares, dodgy dealings and shady agreements are never far away.  i would say the main appeal of the show is due to the fact that it goes where other shows wouldn't dare. forget pretty pictures painted for mainstream audiences, forget charm, forget romance...oz doesn't mess around. the first episode i ever saw struck me as so nasty it was surreal, i couldn't say i was ready for it, but as i watched more, i developed a taste for oz, and got accustomed to the high levels of graphic violence. not just violence, but injustice (crooked guards who'll be sold out for a nickel, inmates who'll kill on order and get away with it, well mannered, middle class inmates being turned into prison bitches due to their lack of street skills or prison experience) watching oz, you may become comfortable with what is uncomfortable viewing....thats if you can get in touch with your darker side.\""
      ]
     },
     "execution_count": 14,
     "metadata": {},
     "output_type": "execute_result"
    }
   ],
   "source": [
    "df.iloc[0, 2]"
   ]
  },
  {
   "cell_type": "code",
   "execution_count": 15,
   "metadata": {},
   "outputs": [
    {
     "data": {
      "text/plain": [
       "'reviewer mention watch 1 oz episode hook . right , exactly happen .  thing strike oz brutality unflinching scene violence , set right word . trust , faint hearted timid . pull punch regard drug , sex violence . hardcore , classic use word .  call oz nickname give oswald maximum security state penitentary . focus mainly emerald city , experimental section prison cell glass front face inwards , privacy high agendum . -PRON- city home .. aryans , muslims , gangstas , latinos , christians , italians , irish .... scuffle , death stare , dodgy dealings shady agreement far away .  main appeal fact go show dare . forget pretty picture paint mainstream audience , forget charm , forget romance ... oz mess . episode see strike nasty surreal , ready , watch , develope taste oz , get accustom high level graphic violence . violence , injustice ( crook guard sell nickel , inmate kill order away , mannered , middle class inmate turn prison bitch lack street skill prison experience ) watch oz , comfortable uncomfortable view .... thats touch dark .'"
      ]
     },
     "execution_count": 15,
     "metadata": {},
     "output_type": "execute_result"
    }
   ],
   "source": [
    "df.iloc[0, 3]"
   ]
  },
  {
   "cell_type": "code",
   "execution_count": 16,
   "metadata": {},
   "outputs": [
    {
     "data": {
      "text/plain": [
       "(50000, 4)"
      ]
     },
     "execution_count": 16,
     "metadata": {},
     "output_type": "execute_result"
    }
   ],
   "source": [
    "df.shape"
   ]
  },
  {
   "cell_type": "code",
   "execution_count": 17,
   "metadata": {},
   "outputs": [],
   "source": [
    "df.sentiment = df.sentiment.map({\"positive\": 1, \"negative\":0})"
   ]
  },
  {
   "cell_type": "code",
   "execution_count": 18,
   "metadata": {},
   "outputs": [],
   "source": [
    "features = df.normalized_review.values\n",
    "labels = df.sentiment.values\n",
    "num_words = 1000"
   ]
  },
  {
   "cell_type": "code",
   "execution_count": 19,
   "metadata": {},
   "outputs": [
    {
     "data": {
      "text/plain": [
       "((50000,), (50000,))"
      ]
     },
     "execution_count": 19,
     "metadata": {},
     "output_type": "execute_result"
    }
   ],
   "source": [
    "features.shape , labels.shape"
   ]
  },
  {
   "cell_type": "code",
   "execution_count": 20,
   "metadata": {},
   "outputs": [],
   "source": [
    "t = Tokenizer(num_words=1000)\n",
    "t.fit_on_texts(features)"
   ]
  },
  {
   "cell_type": "code",
   "execution_count": 21,
   "metadata": {},
   "outputs": [
    {
     "name": "stdout",
     "output_type": "stream",
     "text": [
      "CPU times: user 14.5 s, sys: 192 ms, total: 14.7 s\n",
      "Wall time: 14.7 s\n"
     ]
    }
   ],
   "source": [
    "%%time\n",
    "features = t.texts_to_matrix(features, mode='tfidf')"
   ]
  },
  {
   "cell_type": "markdown",
   "metadata": {},
   "source": [
    "## Understand the dimension\n",
    "\n",
    "- `input_dim`: dimension of the input paragraph/review\n",
    "  - remember each input `normalized_review` is transformed into a `1000` dimension vector by keras tokenizer\n",
    "  \n",
    "- `hidden_dim`: denotes the number of neurons in the hidden layer\n",
    "\n",
    "- `output_dim`: denotes the number of category"
   ]
  },
  {
   "cell_type": "markdown",
   "metadata": {},
   "source": [
    "### Hyperparams"
   ]
  },
  {
   "cell_type": "code",
   "execution_count": 22,
   "metadata": {},
   "outputs": [],
   "source": [
    "input_dim = num_words\n",
    "hidden_dim = 100\n",
    "output_dim = 2"
   ]
  },
  {
   "cell_type": "code",
   "execution_count": 23,
   "metadata": {},
   "outputs": [],
   "source": [
    "# Building model\n",
    "\n",
    "class LinNet(nn.Module):\n",
    "    def __init__(self, input_dim, hidden_dim, output_dim):\n",
    "        super().__init__()\n",
    "        self.l1 = nn.Linear(input_dim, hidden_dim)\n",
    "        self.l2 = nn.Linear(hidden_dim, hidden_dim)\n",
    "        self.l3 = nn.Linear(hidden_dim, output_dim)\n",
    "        \n",
    "    def forward(self, x):\n",
    "        \n",
    "        # shape of X: (batch_size, input_dim)\n",
    "        out = F.relu(self.l1(x))\n",
    "        out = F.relu(self.l2(out))\n",
    "        out = self.l3(out)\n",
    "        \n",
    "        return out"
   ]
  },
  {
   "cell_type": "code",
   "execution_count": null,
   "metadata": {},
   "outputs": [],
   "source": []
  },
  {
   "cell_type": "code",
   "execution_count": 24,
   "metadata": {},
   "outputs": [],
   "source": [
    "from sklearn.model_selection import train_test_split"
   ]
  },
  {
   "cell_type": "code",
   "execution_count": 25,
   "metadata": {},
   "outputs": [],
   "source": [
    "features_train, features_test, labels_train, labels_test = train_test_split(features, labels, shuffle=True, random_state=34)\n"
   ]
  },
  {
   "cell_type": "code",
   "execution_count": 26,
   "metadata": {},
   "outputs": [
    {
     "data": {
      "text/plain": [
       "-inf"
      ]
     },
     "execution_count": 26,
     "metadata": {},
     "output_type": "execute_result"
    }
   ],
   "source": [
    "np.NINF"
   ]
  },
  {
   "cell_type": "markdown",
   "metadata": {},
   "source": [
    "## How to use `checkpoint` in your code?\n",
    "\n",
    "### What is checkpoint?\n",
    "\n",
    "\n",
    "- The architecture of the model, allowing you to re-create the model\n",
    "- The weights of the model\n",
    "- The training configuration (loss, optimizer, epochs, and other meta-information)\n",
    "- The state of the optimizer, allowing to resume training exactly where you left off.\n",
    "\n",
    "> Again, a checkpoint contains the information you need to save your current experiment state so that you can resume training from this point.\n",
    "\n",
    "### How to save and load checkpoint in Pytorch?\n",
    "\n",
    "```py\n",
    "#Saving a checkpoint\n",
    "torch.save(checkpoint, ‘checkpoint.pth’)#Loading a checkpoint\n",
    "checkpoint = torch.load( ‘checkpoint.pth’)\n",
    "```\n",
    "\n",
    "> A checkpoint is a python dictionary that typically includes the following:\n",
    "\n",
    "1. **Network structure:** input and output sizes and Hidden layers to be able to reconstruct the model at loading time.\n",
    "2. **Model state dict:** includes parameters of the network layers that is learned during training, you get it by calling this method on your model instance.\n",
    "`model.state_dict()`\n",
    "3. **Optimizer state dict:** In case you are saving the latest checkpoint to continue training later, you need to save the optimizer’s state as well.\n",
    "you get it by calling this method on an optimizer’s instance `optimizer.state_dict()`\n",
    "4. Additional info: You may need to store additional info, like number of epochs and your class to index mapping in your checkpoint.\n",
    "\n",
    "```py\n",
    "#Example for saving a checkpoint assuming the network class named #Classifier\n",
    "checkpoint = {'model': Classifier(),\n",
    "              'state_dict': model.state_dict(),\n",
    "              'optimizer' : optimizer.state_dict()}\n",
    "\n",
    "torch.save(checkpoint, 'checkpoint.pth')\n",
    "```\n",
    "\n",
    "```py\n",
    "def load_checkpoint(filepath):\n",
    "    checkpoint = torch.load(filepath)\n",
    "    model = checkpoint['model']\n",
    "    model.load_state_dict(checkpoint['state_dict'])\n",
    "    for parameter in model.parameters():\n",
    "        parameter.requires_grad = False\n",
    "\n",
    "    model.eval()\n",
    "    return model\n",
    "\n",
    "model = load_checkpoint('checkpoint.pth')\n",
    "```\n",
    "\n",
    "\n",
    "**Resource:**\n",
    "- [saving-loading-your-model-in-pytorch](https://medium.com/udacity-pytorch-challengers/saving-loading-your-model-in-pytorch-741b80daf3c)\n",
    "- [checkpointing-tutorial-for-tensorflow-keras-and-pytorch](https://blog.floydhub.com/checkpointing-tutorial-for-tensorflow-keras-and-pytorch/)\n"
   ]
  },
  {
   "cell_type": "code",
   "execution_count": 27,
   "metadata": {},
   "outputs": [],
   "source": [
    "def train(epochs):\n",
    "    loss_hist = []\n",
    "    acc_hist = []\n",
    "    \n",
    "    x_train = Variable(torch.from_numpy(features_train)).float()\n",
    "    y_train = Variable(torch.from_numpy(labels_train)).long()\n",
    "    model.train()\n",
    "    \n",
    "    acc_best = np.NINF\n",
    "    check_flag = False\n",
    "    \n",
    "    for epoch in range(epochs):\n",
    "        optimizer.zero_grad()\n",
    "        y_pred = model(x_train)\n",
    "        loss = criterion(y_pred, y_train)\n",
    "        pred = torch.max(y_pred, 1)[1].eq(y_train).sum()\n",
    "        acc = float(pred)/float(len(x_train))\n",
    "        \n",
    "        if acc > acc_best:\n",
    "            acc_best = acc\n",
    "            state_dict = model.state_dict()\n",
    "            optimizer_state = optimizer.state_dict()\n",
    "            check_flag = True\n",
    "        \n",
    "        status = f\"epoch {epoch+1}/{epochs}\\tloss: {loss.item():.4}\\t acc: {acc:.4}\" \n",
    "        \n",
    "        if check_flag:\n",
    "            status = status + \"\\t >> Best Checkpoint <<\"\n",
    "            check_flag = False\n",
    "        \n",
    "        \n",
    "        print(status)\n",
    "        loss_hist.append(np.round(loss.item(),4))\n",
    "        acc_hist.append(np.round(acc,2))\n",
    "        \n",
    "        loss.backward()\n",
    "        optimizer.step()\n",
    "\n",
    "    checkpoint_best = {\"state_dict\":state_dict, 'optimizer_state': optimizer_state}\n",
    "    \n",
    "    return loss_hist, acc_hist, checkpoint_best"
   ]
  },
  {
   "cell_type": "code",
   "execution_count": 28,
   "metadata": {},
   "outputs": [],
   "source": [
    "def test(model, epochs):\n",
    "    loss_hist = []\n",
    "    acc_hist = []\n",
    "    \n",
    "    model.eval()\n",
    "    x_test = Variable(torch.from_numpy(features_test)).float()\n",
    "    y_test = Variable(torch.from_numpy(labels_test)).long()\n",
    "    for epoch in range(epochs):\n",
    "        with torch.no_grad():\n",
    "            y_pred = model(x_test)\n",
    "            loss = criterion(y_pred, y_test)\n",
    "            pred = torch.max(y_pred, 1)[1].eq(y_test).sum()\n",
    "            \n",
    "            acc = float(pred)/float(len(x_test))\n",
    "            status = f\"epoch {epoch+1}/{epochs}\\tloss: {loss.item()}\\t acc: {acc} %\" \n",
    "            print(status)\n",
    "            \n",
    "            loss_hist.append(np.round(loss.item(),4))\n",
    "            acc_hist.append(np.round(acc,4))\n",
    "    \n",
    "    return loss_hist, acc_hist"
   ]
  },
  {
   "cell_type": "code",
   "execution_count": 29,
   "metadata": {},
   "outputs": [],
   "source": [
    "model = LinNet(input_dim, hidden_dim, output_dim)\n",
    "optimizer = torch.optim.Adam(model.parameters(), lr=0.01)\n",
    "criterion = nn.CrossEntropyLoss()"
   ]
  },
  {
   "cell_type": "code",
   "execution_count": 30,
   "metadata": {
    "scrolled": true
   },
   "outputs": [
    {
     "name": "stdout",
     "output_type": "stream",
     "text": [
      "epoch 1/100\tloss: 0.6997\t acc: 0.4941\t >> Best Checkpoint <<\n",
      "epoch 2/100\tloss: 0.7601\t acc: 0.5013\t >> Best Checkpoint <<\n",
      "epoch 3/100\tloss: 0.6909\t acc: 0.4996\n",
      "epoch 4/100\tloss: 0.6337\t acc: 0.5425\t >> Best Checkpoint <<\n",
      "epoch 5/100\tloss: 0.5488\t acc: 0.7947\t >> Best Checkpoint <<\n",
      "epoch 6/100\tloss: 0.4846\t acc: 0.8038\t >> Best Checkpoint <<\n",
      "epoch 7/100\tloss: 0.4506\t acc: 0.807\t >> Best Checkpoint <<\n",
      "epoch 8/100\tloss: 0.4237\t acc: 0.8259\t >> Best Checkpoint <<\n",
      "epoch 9/100\tloss: 0.3811\t acc: 0.8432\t >> Best Checkpoint <<\n",
      "epoch 10/100\tloss: 0.3685\t acc: 0.8504\t >> Best Checkpoint <<\n",
      "epoch 11/100\tloss: 0.362\t acc: 0.8525\t >> Best Checkpoint <<\n",
      "epoch 12/100\tloss: 0.334\t acc: 0.8655\t >> Best Checkpoint <<\n",
      "epoch 13/100\tloss: 0.3291\t acc: 0.8655\n",
      "epoch 14/100\tloss: 0.334\t acc: 0.8594\n",
      "epoch 15/100\tloss: 0.3193\t acc: 0.8661\t >> Best Checkpoint <<\n",
      "epoch 16/100\tloss: 0.3253\t acc: 0.8624\n",
      "epoch 17/100\tloss: 0.3138\t acc: 0.8674\t >> Best Checkpoint <<\n",
      "epoch 18/100\tloss: 0.3103\t acc: 0.8689\t >> Best Checkpoint <<\n",
      "epoch 19/100\tloss: 0.3086\t acc: 0.8714\t >> Best Checkpoint <<\n",
      "epoch 20/100\tloss: 0.3007\t acc: 0.8737\t >> Best Checkpoint <<\n",
      "epoch 21/100\tloss: 0.3017\t acc: 0.8734\n",
      "epoch 22/100\tloss: 0.2946\t acc: 0.8754\t >> Best Checkpoint <<\n",
      "epoch 23/100\tloss: 0.2965\t acc: 0.8738\n",
      "epoch 24/100\tloss: 0.2908\t acc: 0.8767\t >> Best Checkpoint <<\n",
      "epoch 25/100\tloss: 0.2919\t acc: 0.8772\t >> Best Checkpoint <<\n",
      "epoch 26/100\tloss: 0.2862\t acc: 0.8783\t >> Best Checkpoint <<\n",
      "epoch 27/100\tloss: 0.2862\t acc: 0.8767\n",
      "epoch 28/100\tloss: 0.2813\t acc: 0.8805\t >> Best Checkpoint <<\n",
      "epoch 29/100\tloss: 0.2806\t acc: 0.8803\n",
      "epoch 30/100\tloss: 0.2758\t acc: 0.8811\t >> Best Checkpoint <<\n",
      "epoch 31/100\tloss: 0.2733\t acc: 0.8823\t >> Best Checkpoint <<\n",
      "epoch 32/100\tloss: 0.2695\t acc: 0.8845\t >> Best Checkpoint <<\n",
      "epoch 33/100\tloss: 0.2663\t acc: 0.8857\t >> Best Checkpoint <<\n",
      "epoch 34/100\tloss: 0.2627\t acc: 0.8859\t >> Best Checkpoint <<\n",
      "epoch 35/100\tloss: 0.2579\t acc: 0.8892\t >> Best Checkpoint <<\n",
      "epoch 36/100\tloss: 0.255\t acc: 0.8902\t >> Best Checkpoint <<\n",
      "epoch 37/100\tloss: 0.2498\t acc: 0.893\t >> Best Checkpoint <<\n",
      "epoch 38/100\tloss: 0.245\t acc: 0.8955\t >> Best Checkpoint <<\n",
      "epoch 39/100\tloss: 0.241\t acc: 0.8973\t >> Best Checkpoint <<\n",
      "epoch 40/100\tloss: 0.2354\t acc: 0.9\t >> Best Checkpoint <<\n",
      "epoch 41/100\tloss: 0.2303\t acc: 0.9025\t >> Best Checkpoint <<\n",
      "epoch 42/100\tloss: 0.2257\t acc: 0.9037\t >> Best Checkpoint <<\n",
      "epoch 43/100\tloss: 0.2204\t acc: 0.9063\t >> Best Checkpoint <<\n",
      "epoch 44/100\tloss: 0.2148\t acc: 0.9085\t >> Best Checkpoint <<\n",
      "epoch 45/100\tloss: 0.2087\t acc: 0.9119\t >> Best Checkpoint <<\n",
      "epoch 46/100\tloss: 0.2033\t acc: 0.9144\t >> Best Checkpoint <<\n",
      "epoch 47/100\tloss: 0.198\t acc: 0.9162\t >> Best Checkpoint <<\n",
      "epoch 48/100\tloss: 0.1944\t acc: 0.9177\t >> Best Checkpoint <<\n",
      "epoch 49/100\tloss: 0.1946\t acc: 0.9175\n",
      "epoch 50/100\tloss: 0.1995\t acc: 0.9118\n",
      "epoch 51/100\tloss: 0.1887\t acc: 0.9211\t >> Best Checkpoint <<\n",
      "epoch 52/100\tloss: 0.1747\t acc: 0.9275\t >> Best Checkpoint <<\n",
      "epoch 53/100\tloss: 0.1786\t acc: 0.9221\n",
      "epoch 54/100\tloss: 0.1754\t acc: 0.926\n",
      "epoch 55/100\tloss: 0.1634\t acc: 0.9318\t >> Best Checkpoint <<\n",
      "epoch 56/100\tloss: 0.1601\t acc: 0.9339\t >> Best Checkpoint <<\n",
      "epoch 57/100\tloss: 0.159\t acc: 0.935\t >> Best Checkpoint <<\n",
      "epoch 58/100\tloss: 0.1506\t acc: 0.9376\t >> Best Checkpoint <<\n",
      "epoch 59/100\tloss: 0.1471\t acc: 0.9394\t >> Best Checkpoint <<\n",
      "epoch 60/100\tloss: 0.1456\t acc: 0.9391\n",
      "epoch 61/100\tloss: 0.1403\t acc: 0.9426\t >> Best Checkpoint <<\n",
      "epoch 62/100\tloss: 0.135\t acc: 0.9456\t >> Best Checkpoint <<\n",
      "epoch 63/100\tloss: 0.1319\t acc: 0.9468\t >> Best Checkpoint <<\n",
      "epoch 64/100\tloss: 0.1283\t acc: 0.948\t >> Best Checkpoint <<\n",
      "epoch 65/100\tloss: 0.1256\t acc: 0.9494\t >> Best Checkpoint <<\n",
      "epoch 66/100\tloss: 0.1218\t acc: 0.9508\t >> Best Checkpoint <<\n",
      "epoch 67/100\tloss: 0.1166\t acc: 0.9537\t >> Best Checkpoint <<\n",
      "epoch 68/100\tloss: 0.1132\t acc: 0.9552\t >> Best Checkpoint <<\n",
      "epoch 69/100\tloss: 0.1085\t acc: 0.9573\t >> Best Checkpoint <<\n",
      "epoch 70/100\tloss: 0.1056\t acc: 0.9586\t >> Best Checkpoint <<\n",
      "epoch 71/100\tloss: 0.102\t acc: 0.9599\t >> Best Checkpoint <<\n",
      "epoch 72/100\tloss: 0.09932\t acc: 0.9608\t >> Best Checkpoint <<\n",
      "epoch 73/100\tloss: 0.09875\t acc: 0.9615\t >> Best Checkpoint <<\n",
      "epoch 74/100\tloss: 0.1044\t acc: 0.9567\n",
      "epoch 75/100\tloss: 0.135\t acc: 0.9386\n",
      "epoch 76/100\tloss: 0.1699\t acc: 0.9211\n",
      "epoch 77/100\tloss: 0.142\t acc: 0.9364\n",
      "epoch 78/100\tloss: 0.1045\t acc: 0.9598\n",
      "epoch 79/100\tloss: 0.1167\t acc: 0.9498\n",
      "epoch 80/100\tloss: 0.09809\t acc: 0.96\n",
      "epoch 81/100\tloss: 0.09982\t acc: 0.959\n",
      "epoch 82/100\tloss: 0.09687\t acc: 0.9602\n",
      "epoch 83/100\tloss: 0.09443\t acc: 0.9605\n",
      "epoch 84/100\tloss: 0.08883\t acc: 0.9623\t >> Best Checkpoint <<\n",
      "epoch 85/100\tloss: 0.08204\t acc: 0.9681\t >> Best Checkpoint <<\n",
      "epoch 86/100\tloss: 0.08503\t acc: 0.9686\t >> Best Checkpoint <<\n",
      "epoch 87/100\tloss: 0.08185\t acc: 0.97\t >> Best Checkpoint <<\n",
      "epoch 88/100\tloss: 0.07977\t acc: 0.9703\t >> Best Checkpoint <<\n",
      "epoch 89/100\tloss: 0.07509\t acc: 0.9725\t >> Best Checkpoint <<\n",
      "epoch 90/100\tloss: 0.07117\t acc: 0.9733\t >> Best Checkpoint <<\n",
      "epoch 91/100\tloss: 0.07081\t acc: 0.9724\n",
      "epoch 92/100\tloss: 0.06844\t acc: 0.973\n",
      "epoch 93/100\tloss: 0.06661\t acc: 0.9739\t >> Best Checkpoint <<\n",
      "epoch 94/100\tloss: 0.06256\t acc: 0.9759\t >> Best Checkpoint <<\n",
      "epoch 95/100\tloss: 0.05964\t acc: 0.9786\t >> Best Checkpoint <<\n",
      "epoch 96/100\tloss: 0.05777\t acc: 0.9798\t >> Best Checkpoint <<\n",
      "epoch 97/100\tloss: 0.05704\t acc: 0.9804\t >> Best Checkpoint <<\n",
      "epoch 98/100\tloss: 0.0548\t acc: 0.9815\t >> Best Checkpoint <<\n",
      "epoch 99/100\tloss: 0.05219\t acc: 0.983\t >> Best Checkpoint <<\n",
      "epoch 100/100\tloss: 0.05025\t acc: 0.9826\n",
      "CPU times: user 1min 15s, sys: 18.8 s, total: 1min 34s\n",
      "Wall time: 32 s\n"
     ]
    }
   ],
   "source": [
    "%%time\n",
    "loss_hist, acc_hist, checkpoint_best = train(100)"
   ]
  },
  {
   "cell_type": "markdown",
   "metadata": {},
   "source": [
    "## Saving Model (best checkpoint)"
   ]
  },
  {
   "cell_type": "code",
   "execution_count": 31,
   "metadata": {},
   "outputs": [],
   "source": [
    "checkpoint = {'model': LinNet(input_dim, hidden_dim, output_dim),\n",
    "              'state_dict': checkpoint_best['state_dict'],\n",
    "              'optimizer' : checkpoint_best['optimizer_state']}"
   ]
  },
  {
   "cell_type": "code",
   "execution_count": 32,
   "metadata": {},
   "outputs": [
    {
     "name": "stdout",
     "output_type": "stream",
     "text": [
      "CPU times: user 5.65 ms, sys: 8.18 ms, total: 13.8 ms\n",
      "Wall time: 4.55 ms\n"
     ]
    }
   ],
   "source": [
    "%%time\n",
    "torch.save(checkpoint, DIR_model+'review_classification_checkpoint.pth')"
   ]
  },
  {
   "cell_type": "markdown",
   "metadata": {},
   "source": [
    "## Load the model aka checkpoint"
   ]
  },
  {
   "cell_type": "code",
   "execution_count": 33,
   "metadata": {},
   "outputs": [],
   "source": [
    "def load_checkpoint(filepath):\n",
    "    checkpoint = torch.load(filepath)\n",
    "    model = checkpoint['model']\n",
    "    model.load_state_dict(checkpoint['state_dict'])\n",
    "    for parameter in model.parameters():\n",
    "        parameter.requires_grad = False\n",
    "\n",
    "    #model.eval()\n",
    "    return model"
   ]
  },
  {
   "cell_type": "code",
   "execution_count": 34,
   "metadata": {},
   "outputs": [],
   "source": [
    "model_test = load_checkpoint(DIR_model+'review_classification_checkpoint.pth')"
   ]
  },
  {
   "cell_type": "code",
   "execution_count": 35,
   "metadata": {
    "scrolled": true
   },
   "outputs": [
    {
     "name": "stdout",
     "output_type": "stream",
     "text": [
      "epoch 1/100\tloss: 1.1033885478973389\t acc: 0.82568 %\n",
      "epoch 2/100\tloss: 1.1033885478973389\t acc: 0.82568 %\n",
      "epoch 3/100\tloss: 1.1033885478973389\t acc: 0.82568 %\n",
      "epoch 4/100\tloss: 1.1033885478973389\t acc: 0.82568 %\n",
      "epoch 5/100\tloss: 1.1033885478973389\t acc: 0.82568 %\n",
      "epoch 6/100\tloss: 1.1033885478973389\t acc: 0.82568 %\n",
      "epoch 7/100\tloss: 1.1033885478973389\t acc: 0.82568 %\n",
      "epoch 8/100\tloss: 1.1033885478973389\t acc: 0.82568 %\n",
      "epoch 9/100\tloss: 1.1033885478973389\t acc: 0.82568 %\n",
      "epoch 10/100\tloss: 1.1033885478973389\t acc: 0.82568 %\n",
      "epoch 11/100\tloss: 1.1033885478973389\t acc: 0.82568 %\n",
      "epoch 12/100\tloss: 1.1033885478973389\t acc: 0.82568 %\n",
      "epoch 13/100\tloss: 1.1033885478973389\t acc: 0.82568 %\n",
      "epoch 14/100\tloss: 1.1033885478973389\t acc: 0.82568 %\n",
      "epoch 15/100\tloss: 1.1033885478973389\t acc: 0.82568 %\n",
      "epoch 16/100\tloss: 1.1033885478973389\t acc: 0.82568 %\n",
      "epoch 17/100\tloss: 1.1033885478973389\t acc: 0.82568 %\n",
      "epoch 18/100\tloss: 1.1033885478973389\t acc: 0.82568 %\n",
      "epoch 19/100\tloss: 1.1033885478973389\t acc: 0.82568 %\n",
      "epoch 20/100\tloss: 1.1033885478973389\t acc: 0.82568 %\n",
      "epoch 21/100\tloss: 1.1033885478973389\t acc: 0.82568 %\n",
      "epoch 22/100\tloss: 1.1033885478973389\t acc: 0.82568 %\n",
      "epoch 23/100\tloss: 1.1033885478973389\t acc: 0.82568 %\n",
      "epoch 24/100\tloss: 1.1033885478973389\t acc: 0.82568 %\n",
      "epoch 25/100\tloss: 1.1033885478973389\t acc: 0.82568 %\n",
      "epoch 26/100\tloss: 1.1033885478973389\t acc: 0.82568 %\n",
      "epoch 27/100\tloss: 1.1033885478973389\t acc: 0.82568 %\n",
      "epoch 28/100\tloss: 1.1033885478973389\t acc: 0.82568 %\n",
      "epoch 29/100\tloss: 1.1033885478973389\t acc: 0.82568 %\n",
      "epoch 30/100\tloss: 1.1033885478973389\t acc: 0.82568 %\n",
      "epoch 31/100\tloss: 1.1033885478973389\t acc: 0.82568 %\n",
      "epoch 32/100\tloss: 1.1033885478973389\t acc: 0.82568 %\n",
      "epoch 33/100\tloss: 1.1033885478973389\t acc: 0.82568 %\n",
      "epoch 34/100\tloss: 1.1033885478973389\t acc: 0.82568 %\n",
      "epoch 35/100\tloss: 1.1033885478973389\t acc: 0.82568 %\n",
      "epoch 36/100\tloss: 1.1033885478973389\t acc: 0.82568 %\n",
      "epoch 37/100\tloss: 1.1033885478973389\t acc: 0.82568 %\n",
      "epoch 38/100\tloss: 1.1033885478973389\t acc: 0.82568 %\n",
      "epoch 39/100\tloss: 1.1033885478973389\t acc: 0.82568 %\n",
      "epoch 40/100\tloss: 1.1033885478973389\t acc: 0.82568 %\n",
      "epoch 41/100\tloss: 1.1033885478973389\t acc: 0.82568 %\n",
      "epoch 42/100\tloss: 1.1033885478973389\t acc: 0.82568 %\n",
      "epoch 43/100\tloss: 1.1033885478973389\t acc: 0.82568 %\n",
      "epoch 44/100\tloss: 1.1033885478973389\t acc: 0.82568 %\n",
      "epoch 45/100\tloss: 1.1033885478973389\t acc: 0.82568 %\n",
      "epoch 46/100\tloss: 1.1033885478973389\t acc: 0.82568 %\n",
      "epoch 47/100\tloss: 1.1033885478973389\t acc: 0.82568 %\n",
      "epoch 48/100\tloss: 1.1033885478973389\t acc: 0.82568 %\n",
      "epoch 49/100\tloss: 1.1033885478973389\t acc: 0.82568 %\n",
      "epoch 50/100\tloss: 1.1033885478973389\t acc: 0.82568 %\n",
      "epoch 51/100\tloss: 1.1033885478973389\t acc: 0.82568 %\n",
      "epoch 52/100\tloss: 1.1033885478973389\t acc: 0.82568 %\n",
      "epoch 53/100\tloss: 1.1033885478973389\t acc: 0.82568 %\n",
      "epoch 54/100\tloss: 1.1033885478973389\t acc: 0.82568 %\n",
      "epoch 55/100\tloss: 1.1033885478973389\t acc: 0.82568 %\n",
      "epoch 56/100\tloss: 1.1033885478973389\t acc: 0.82568 %\n",
      "epoch 57/100\tloss: 1.1033885478973389\t acc: 0.82568 %\n",
      "epoch 58/100\tloss: 1.1033885478973389\t acc: 0.82568 %\n",
      "epoch 59/100\tloss: 1.1033885478973389\t acc: 0.82568 %\n",
      "epoch 60/100\tloss: 1.1033885478973389\t acc: 0.82568 %\n",
      "epoch 61/100\tloss: 1.1033885478973389\t acc: 0.82568 %\n",
      "epoch 62/100\tloss: 1.1033885478973389\t acc: 0.82568 %\n",
      "epoch 63/100\tloss: 1.1033885478973389\t acc: 0.82568 %\n",
      "epoch 64/100\tloss: 1.1033885478973389\t acc: 0.82568 %\n",
      "epoch 65/100\tloss: 1.1033885478973389\t acc: 0.82568 %\n",
      "epoch 66/100\tloss: 1.1033885478973389\t acc: 0.82568 %\n",
      "epoch 67/100\tloss: 1.1033885478973389\t acc: 0.82568 %\n",
      "epoch 68/100\tloss: 1.1033885478973389\t acc: 0.82568 %\n",
      "epoch 69/100\tloss: 1.1033885478973389\t acc: 0.82568 %\n",
      "epoch 70/100\tloss: 1.1033885478973389\t acc: 0.82568 %\n",
      "epoch 71/100\tloss: 1.1033885478973389\t acc: 0.82568 %\n",
      "epoch 72/100\tloss: 1.1033885478973389\t acc: 0.82568 %\n",
      "epoch 73/100\tloss: 1.1033885478973389\t acc: 0.82568 %\n",
      "epoch 74/100\tloss: 1.1033885478973389\t acc: 0.82568 %\n",
      "epoch 75/100\tloss: 1.1033885478973389\t acc: 0.82568 %\n",
      "epoch 76/100\tloss: 1.1033885478973389\t acc: 0.82568 %\n",
      "epoch 77/100\tloss: 1.1033885478973389\t acc: 0.82568 %\n",
      "epoch 78/100\tloss: 1.1033885478973389\t acc: 0.82568 %\n",
      "epoch 79/100\tloss: 1.1033885478973389\t acc: 0.82568 %\n",
      "epoch 80/100\tloss: 1.1033885478973389\t acc: 0.82568 %\n",
      "epoch 81/100\tloss: 1.1033885478973389\t acc: 0.82568 %\n",
      "epoch 82/100\tloss: 1.1033885478973389\t acc: 0.82568 %\n",
      "epoch 83/100\tloss: 1.1033885478973389\t acc: 0.82568 %\n",
      "epoch 84/100\tloss: 1.1033885478973389\t acc: 0.82568 %\n",
      "epoch 85/100\tloss: 1.1033885478973389\t acc: 0.82568 %\n",
      "epoch 86/100\tloss: 1.1033885478973389\t acc: 0.82568 %\n",
      "epoch 87/100\tloss: 1.1033885478973389\t acc: 0.82568 %\n",
      "epoch 88/100\tloss: 1.1033885478973389\t acc: 0.82568 %\n",
      "epoch 89/100\tloss: 1.1033885478973389\t acc: 0.82568 %\n",
      "epoch 90/100\tloss: 1.1033885478973389\t acc: 0.82568 %\n",
      "epoch 91/100\tloss: 1.1033885478973389\t acc: 0.82568 %\n",
      "epoch 92/100\tloss: 1.1033885478973389\t acc: 0.82568 %\n",
      "epoch 93/100\tloss: 1.1033885478973389\t acc: 0.82568 %\n",
      "epoch 94/100\tloss: 1.1033885478973389\t acc: 0.82568 %\n",
      "epoch 95/100\tloss: 1.1033885478973389\t acc: 0.82568 %\n",
      "epoch 96/100\tloss: 1.1033885478973389\t acc: 0.82568 %\n",
      "epoch 97/100\tloss: 1.1033885478973389\t acc: 0.82568 %\n",
      "epoch 98/100\tloss: 1.1033885478973389\t acc: 0.82568 %\n",
      "epoch 99/100\tloss: 1.1033885478973389\t acc: 0.82568 %\n",
      "epoch 100/100\tloss: 1.1033885478973389\t acc: 0.82568 %\n"
     ]
    }
   ],
   "source": [
    "test_loss_hist, test_acc_hist = test(model_test, 100)"
   ]
  },
  {
   "cell_type": "markdown",
   "metadata": {},
   "source": [
    "## Plot Performance"
   ]
  },
  {
   "cell_type": "code",
   "execution_count": 36,
   "metadata": {},
   "outputs": [
    {
     "data": {
      "text/plain": [
       "Text(0, 0.5, 'Values')"
      ]
     },
     "execution_count": 36,
     "metadata": {},
     "output_type": "execute_result"
    },
    {
     "data": {
      "image/png": "[encoded data removed]",
      "text/plain": [
       "<Figure size 432x288 with 1 Axes>"
      ]
     },
     "metadata": {
      "needs_background": "light"
     },
     "output_type": "display_data"
    }
   ],
   "source": [
    "plt.figure()\n",
    "plt.plot(loss_hist, label = \"train loss\")\n",
    "plt.plot(acc_hist ,label=\"train acc\")\n",
    "plt.legend()\n",
    "plt.xlabel(\"Epochs\")\n",
    "plt.grid(alpha=0.3)\n",
    "plt.ylabel(\"Values\")"
   ]
  },
  {
   "cell_type": "code",
   "execution_count": null,
   "metadata": {},
   "outputs": [],
   "source": []
  }
 ],
 "metadata": {
  "hide_input": false,
  "kernelspec": {
   "display_name": "Python [conda env:py36]",
   "language": "python",
   "name": "conda-env-py36-py"
  },
  "language_info": {
   "codemirror_mode": {
    "name": "ipython",
    "version": 3
   },
   "file_extension": ".py",
   "mimetype": "text/x-python",
   "name": "python",
   "nbconvert_exporter": "python",
   "pygments_lexer": "ipython3",
   "version": "3.6.8"
  },
  "toc": {
   "base_numbering": 1,
   "nav_menu": {},
   "number_sections": true,
   "sideBar": true,
   "skip_h1_title": false,
   "title_cell": "Table of Contents",
   "title_sidebar": "Contents",
   "toc_cell": false,
   "toc_position": {},
   "toc_section_display": true,
   "toc_window_display": false
  },
  "varInspector": {
   "cols": {
    "lenName": 16,
    "lenType": 16,
    "lenVar": 40
   },
   "kernels_config": {
    "python": {
     "delete_cmd_postfix": "",
     "delete_cmd_prefix": "del ",
     "library": "var_list.py",
     "varRefreshCmd": "print(var_dic_list())"
    },
    "r": {
     "delete_cmd_postfix": ") ",
     "delete_cmd_prefix": "rm(",
     "library": "var_list.r",
     "varRefreshCmd": "cat(var_dic_list()) "
    }
   },
   "types_to_exclude": [
    "module",
    "function",
    "builtin_function_or_method",
    "instance",
    "_Feature"
   ],
   "window_display": false
  }
 },
 "nbformat": 4,
 "nbformat_minor": 2
}
