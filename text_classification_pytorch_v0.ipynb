{
 "cells": [
  {
   "cell_type": "markdown",
   "metadata": {},
   "source": [
    "# Text Classification with Pytorch"
   ]
  },
  {
   "cell_type": "markdown",
   "metadata": {},
   "source": [
    "- [Spam Ham Classification](https://www.kaggle.com/aaditkapoor1201/pytorch-spam-ham-classification)"
   ]
  },
  {
   "cell_type": "code",
   "execution_count": 53,
   "metadata": {},
   "outputs": [],
   "source": [
    "%matplotlib inline\n",
    "import torch\n",
    "import re\n",
    "import pandas as pd\n",
    "import numpy as np\n",
    "from matplotlib import pyplot as plt\n",
    "import spacy #load spacy"
   ]
  },
  {
   "cell_type": "code",
   "execution_count": 54,
   "metadata": {},
   "outputs": [],
   "source": [
    "import torch.nn.functional as F"
   ]
  },
  {
   "cell_type": "code",
   "execution_count": 73,
   "metadata": {},
   "outputs": [],
   "source": [
    "from torch import nn\n",
    "from torch.autograd import Variable"
   ]
  },
  {
   "cell_type": "code",
   "execution_count": 30,
   "metadata": {},
   "outputs": [
    {
     "name": "stderr",
     "output_type": "stream",
     "text": [
      "Using TensorFlow backend.\n"
     ]
    }
   ],
   "source": [
    "from keras.preprocessing.text import Tokenizer"
   ]
  },
  {
   "cell_type": "code",
   "execution_count": 2,
   "metadata": {},
   "outputs": [],
   "source": [
    "DATA_DIR = \"/home/sankarshan/Documents/code/dataset/textdata/\""
   ]
  },
  {
   "cell_type": "code",
   "execution_count": 3,
   "metadata": {},
   "outputs": [
    {
     "name": "stdout",
     "output_type": "stream",
     "text": [
      "total 354M\r\n",
      " 64M -rwxrwxrwx 1 sankarshan sankarshan  64M Mar  9  2019 IMDB_Dataset.csv\r\n",
      "956K -rw-r--r-- 1 sankarshan sankarshan 956K May  8 21:48 ml-latest-small.zip\r\n",
      "265M -rw-r--r-- 1 sankarshan sankarshan 265M May  8 21:50 ml-latest.zip\r\n",
      "4.0K -rw-r--r-- 1 sankarshan sankarshan   71 Oct 19 23:39 README.md\r\n",
      " 26M -rw-rw-r-- 1 sankarshan sankarshan  26M Oct 19 23:42 imdb-dataset-of-50k-movie-reviews.zip\r\n",
      "4.0K drwxr-xr-x 2 sankarshan sankarshan 4.0K Oct 19 23:43 ml-latest-small\r\n"
     ]
    }
   ],
   "source": [
    "!ls -lshrt {DATA_DIR}"
   ]
  },
  {
   "cell_type": "code",
   "execution_count": 4,
   "metadata": {},
   "outputs": [],
   "source": [
    "df = pd.read_csv(DATA_DIR+'IMDB_Dataset.csv')"
   ]
  },
  {
   "cell_type": "code",
   "execution_count": 5,
   "metadata": {},
   "outputs": [
    {
     "data": {
      "text/html": [
       "<div>\n",
       "<style scoped>\n",
       "    .dataframe tbody tr th:only-of-type {\n",
       "        vertical-align: middle;\n",
       "    }\n",
       "\n",
       "    .dataframe tbody tr th {\n",
       "        vertical-align: top;\n",
       "    }\n",
       "\n",
       "    .dataframe thead th {\n",
       "        text-align: right;\n",
       "    }\n",
       "</style>\n",
       "<table border=\"1\" class=\"dataframe\">\n",
       "  <thead>\n",
       "    <tr style=\"text-align: right;\">\n",
       "      <th></th>\n",
       "      <th>review</th>\n",
       "      <th>sentiment</th>\n",
       "    </tr>\n",
       "  </thead>\n",
       "  <tbody>\n",
       "    <tr>\n",
       "      <th>0</th>\n",
       "      <td>One of the other reviewers has mentioned that ...</td>\n",
       "      <td>positive</td>\n",
       "    </tr>\n",
       "    <tr>\n",
       "      <th>1</th>\n",
       "      <td>A wonderful little production. &lt;br /&gt;&lt;br /&gt;The...</td>\n",
       "      <td>positive</td>\n",
       "    </tr>\n",
       "    <tr>\n",
       "      <th>2</th>\n",
       "      <td>I thought this was a wonderful way to spend ti...</td>\n",
       "      <td>positive</td>\n",
       "    </tr>\n",
       "    <tr>\n",
       "      <th>3</th>\n",
       "      <td>Basically there's a family where a little boy ...</td>\n",
       "      <td>negative</td>\n",
       "    </tr>\n",
       "    <tr>\n",
       "      <th>4</th>\n",
       "      <td>Petter Mattei's \"Love in the Time of Money\" is...</td>\n",
       "      <td>positive</td>\n",
       "    </tr>\n",
       "  </tbody>\n",
       "</table>\n",
       "</div>"
      ],
      "text/plain": [
       "                                              review sentiment\n",
       "0  One of the other reviewers has mentioned that ...  positive\n",
       "1  A wonderful little production. <br /><br />The...  positive\n",
       "2  I thought this was a wonderful way to spend ti...  positive\n",
       "3  Basically there's a family where a little boy ...  negative\n",
       "4  Petter Mattei's \"Love in the Time of Money\" is...  positive"
      ]
     },
     "execution_count": 5,
     "metadata": {},
     "output_type": "execute_result"
    }
   ],
   "source": [
    "df.head()"
   ]
  },
  {
   "cell_type": "code",
   "execution_count": 6,
   "metadata": {},
   "outputs": [],
   "source": [
    "def clean_review(text):\n",
    "    # Strip HTML tags\n",
    "    text = re.sub('<[^<]+?>', ' ', text)\n",
    " \n",
    "    # Strip escaped quotes\n",
    "    text = text.replace('\\\\\"', '')\n",
    " \n",
    "    # Strip quotes\n",
    "    text = text.replace('\"', '')\n",
    "    \n",
    "    text = text.lower()\n",
    " \n",
    "    return text\n",
    "\n",
    "def normalize(comment, lowercase=True):\n",
    "    if lowercase:\n",
    "        comment = comment.lower()\n",
    "    comment = nlp(comment)\n",
    "    lemmatized = list()\n",
    "    for word in comment:\n",
    "        if not word.is_stop:\n",
    "            lemma = word.lemma_.strip()\n",
    "            lemmatized.append(lemma)\n",
    "        \n",
    "    return \" \".join(lemmatized)\n"
   ]
  },
  {
   "cell_type": "code",
   "execution_count": null,
   "metadata": {},
   "outputs": [],
   "source": [
    "nlp = spacy.load(\"en_core_web_sm\", disable=['parser', 'tagger', 'ner'])\n",
    "spacy_stopwords = spacy.lang.en.stop_words.STOP_WORDS"
   ]
  },
  {
   "cell_type": "code",
   "execution_count": 7,
   "metadata": {},
   "outputs": [],
   "source": [
    "%%time\n",
    "df['cleaned_review'] = df['review'].apply(clean_review)\n",
    "df['normalized_review'] = df['cleaned_review'].apply(normalize) "
   ]
  },
  {
   "cell_type": "code",
   "execution_count": 18,
   "metadata": {},
   "outputs": [
    {
     "data": {
      "text/html": [
       "<div>\n",
       "<style scoped>\n",
       "    .dataframe tbody tr th:only-of-type {\n",
       "        vertical-align: middle;\n",
       "    }\n",
       "\n",
       "    .dataframe tbody tr th {\n",
       "        vertical-align: top;\n",
       "    }\n",
       "\n",
       "    .dataframe thead th {\n",
       "        text-align: right;\n",
       "    }\n",
       "</style>\n",
       "<table border=\"1\" class=\"dataframe\">\n",
       "  <thead>\n",
       "    <tr style=\"text-align: right;\">\n",
       "      <th></th>\n",
       "      <th>review</th>\n",
       "      <th>sentiment</th>\n",
       "      <th>cleaned_review</th>\n",
       "      <th>normalized_review</th>\n",
       "    </tr>\n",
       "  </thead>\n",
       "  <tbody>\n",
       "    <tr>\n",
       "      <th>0</th>\n",
       "      <td>One of the other reviewers has mentioned that ...</td>\n",
       "      <td>positive</td>\n",
       "      <td>one of the other reviewers has mentioned that ...</td>\n",
       "      <td>reviewer mention watch 1 oz episode hook . rig...</td>\n",
       "    </tr>\n",
       "    <tr>\n",
       "      <th>1</th>\n",
       "      <td>A wonderful little production. &lt;br /&gt;&lt;br /&gt;The...</td>\n",
       "      <td>positive</td>\n",
       "      <td>a wonderful little production.   the filming t...</td>\n",
       "      <td>wonderful little production .  film technique ...</td>\n",
       "    </tr>\n",
       "    <tr>\n",
       "      <th>2</th>\n",
       "      <td>I thought this was a wonderful way to spend ti...</td>\n",
       "      <td>positive</td>\n",
       "      <td>i thought this was a wonderful way to spend ti...</td>\n",
       "      <td>think wonderful way spend time hot summer week...</td>\n",
       "    </tr>\n",
       "    <tr>\n",
       "      <th>3</th>\n",
       "      <td>Basically there's a family where a little boy ...</td>\n",
       "      <td>negative</td>\n",
       "      <td>basically there's a family where a little boy ...</td>\n",
       "      <td>basically family little boy ( jake ) think zom...</td>\n",
       "    </tr>\n",
       "    <tr>\n",
       "      <th>4</th>\n",
       "      <td>Petter Mattei's \"Love in the Time of Money\" is...</td>\n",
       "      <td>positive</td>\n",
       "      <td>petter mattei's love in the time of money is a...</td>\n",
       "      <td>petter mattei love time money visually stun fi...</td>\n",
       "    </tr>\n",
       "  </tbody>\n",
       "</table>\n",
       "</div>"
      ],
      "text/plain": [
       "                                              review sentiment  \\\n",
       "0  One of the other reviewers has mentioned that ...  positive   \n",
       "1  A wonderful little production. <br /><br />The...  positive   \n",
       "2  I thought this was a wonderful way to spend ti...  positive   \n",
       "3  Basically there's a family where a little boy ...  negative   \n",
       "4  Petter Mattei's \"Love in the Time of Money\" is...  positive   \n",
       "\n",
       "                                      cleaned_review  \\\n",
       "0  one of the other reviewers has mentioned that ...   \n",
       "1  a wonderful little production.   the filming t...   \n",
       "2  i thought this was a wonderful way to spend ti...   \n",
       "3  basically there's a family where a little boy ...   \n",
       "4  petter mattei's love in the time of money is a...   \n",
       "\n",
       "                                   normalized_review  \n",
       "0  reviewer mention watch 1 oz episode hook . rig...  \n",
       "1  wonderful little production .  film technique ...  \n",
       "2  think wonderful way spend time hot summer week...  \n",
       "3  basically family little boy ( jake ) think zom...  \n",
       "4  petter mattei love time money visually stun fi...  "
      ]
     },
     "execution_count": 18,
     "metadata": {},
     "output_type": "execute_result"
    }
   ],
   "source": [
    "df.head()"
   ]
  },
  {
   "cell_type": "code",
   "execution_count": 23,
   "metadata": {},
   "outputs": [
    {
     "data": {
      "text/plain": [
       "\"One of the other reviewers has mentioned that after watching just 1 Oz episode you'll be hooked. They are right, as this is exactly what happened with me.<br /><br />The first thing that struck me about Oz was its brutality and unflinching scenes of violence, which set in right from the word GO. Trust me, this is not a show for the faint hearted or timid. This show pulls no punches with regards to drugs, sex or violence. Its is hardcore, in the classic use of the word.<br /><br />It is called OZ as that is the nickname given to the Oswald Maximum Security State Penitentary. It focuses mainly on Emerald City, an experimental section of the prison where all the cells have glass fronts and face inwards, so privacy is not high on the agenda. Em City is home to many..Aryans, Muslims, gangstas, Latinos, Christians, Italians, Irish and more....so scuffles, death stares, dodgy dealings and shady agreements are never far away.<br /><br />I would say the main appeal of the show is due to the fact that it goes where other shows wouldn't dare. Forget pretty pictures painted for mainstream audiences, forget charm, forget romance...OZ doesn't mess around. The first episode I ever saw struck me as so nasty it was surreal, I couldn't say I was ready for it, but as I watched more, I developed a taste for Oz, and got accustomed to the high levels of graphic violence. Not just violence, but injustice (crooked guards who'll be sold out for a nickel, inmates who'll kill on order and get away with it, well mannered, middle class inmates being turned into prison bitches due to their lack of street skills or prison experience) Watching Oz, you may become comfortable with what is uncomfortable viewing....thats if you can get in touch with your darker side.\""
      ]
     },
     "execution_count": 23,
     "metadata": {},
     "output_type": "execute_result"
    }
   ],
   "source": [
    "df.iloc[0, 0]"
   ]
  },
  {
   "cell_type": "code",
   "execution_count": 25,
   "metadata": {},
   "outputs": [
    {
     "data": {
      "text/plain": [
       "\"one of the other reviewers has mentioned that after watching just 1 oz episode you'll be hooked. they are right, as this is exactly what happened with me.  the first thing that struck me about oz was its brutality and unflinching scenes of violence, which set in right from the word go. trust me, this is not a show for the faint hearted or timid. this show pulls no punches with regards to drugs, sex or violence. its is hardcore, in the classic use of the word.  it is called oz as that is the nickname given to the oswald maximum security state penitentary. it focuses mainly on emerald city, an experimental section of the prison where all the cells have glass fronts and face inwards, so privacy is not high on the agenda. em city is home to many..aryans, muslims, gangstas, latinos, christians, italians, irish and more....so scuffles, death stares, dodgy dealings and shady agreements are never far away.  i would say the main appeal of the show is due to the fact that it goes where other shows wouldn't dare. forget pretty pictures painted for mainstream audiences, forget charm, forget romance...oz doesn't mess around. the first episode i ever saw struck me as so nasty it was surreal, i couldn't say i was ready for it, but as i watched more, i developed a taste for oz, and got accustomed to the high levels of graphic violence. not just violence, but injustice (crooked guards who'll be sold out for a nickel, inmates who'll kill on order and get away with it, well mannered, middle class inmates being turned into prison bitches due to their lack of street skills or prison experience) watching oz, you may become comfortable with what is uncomfortable viewing....thats if you can get in touch with your darker side.\""
      ]
     },
     "execution_count": 25,
     "metadata": {},
     "output_type": "execute_result"
    }
   ],
   "source": [
    "df.iloc[0, 2]"
   ]
  },
  {
   "cell_type": "code",
   "execution_count": 26,
   "metadata": {},
   "outputs": [
    {
     "data": {
      "text/plain": [
       "'reviewer mention watch 1 oz episode hook . right , exactly happen .  thing strike oz brutality unflinching scene violence , set right word . trust , faint hearted timid . pull punch regard drug , sex violence . hardcore , classic use word .  call oz nickname give oswald maximum security state penitentary . focus mainly emerald city , experimental section prison cell glass front face inwards , privacy high agendum . -PRON- city home .. aryans , muslims , gangstas , latinos , christians , italians , irish .... scuffle , death stare , dodgy dealings shady agreement far away .  main appeal fact go show dare . forget pretty picture paint mainstream audience , forget charm , forget romance ... oz mess . episode see strike nasty surreal , ready , watch , develope taste oz , get accustom high level graphic violence . violence , injustice ( crook guard sell nickel , inmate kill order away , mannered , middle class inmate turn prison bitch lack street skill prison experience ) watch oz , comfortable uncomfortable view .... thats touch dark .'"
      ]
     },
     "execution_count": 26,
     "metadata": {},
     "output_type": "execute_result"
    }
   ],
   "source": [
    "df.iloc[0, 3]"
   ]
  },
  {
   "cell_type": "code",
   "execution_count": 38,
   "metadata": {},
   "outputs": [
    {
     "data": {
      "text/plain": [
       "(50000, 4)"
      ]
     },
     "execution_count": 38,
     "metadata": {},
     "output_type": "execute_result"
    }
   ],
   "source": [
    "df.shape"
   ]
  },
  {
   "cell_type": "code",
   "execution_count": 33,
   "metadata": {},
   "outputs": [],
   "source": [
    "df.sentiment = df.sentiment.map({\"positive\": 1, \"negative\":0})"
   ]
  },
  {
   "cell_type": "code",
   "execution_count": 36,
   "metadata": {},
   "outputs": [],
   "source": [
    "features = df.normalized_review.values\n",
    "labels = df.sentiment.values\n",
    "num_words = 1000"
   ]
  },
  {
   "cell_type": "code",
   "execution_count": 41,
   "metadata": {},
   "outputs": [
    {
     "data": {
      "text/plain": [
       "((50000,), (50000,))"
      ]
     },
     "execution_count": 41,
     "metadata": {},
     "output_type": "execute_result"
    }
   ],
   "source": [
    "features.shape , labels.shape"
   ]
  },
  {
   "cell_type": "code",
   "execution_count": 42,
   "metadata": {},
   "outputs": [],
   "source": [
    "t = Tokenizer(num_words=1000)\n",
    "t.fit_on_texts(features)"
   ]
  },
  {
   "cell_type": "code",
   "execution_count": 45,
   "metadata": {},
   "outputs": [],
   "source": [
    "features = t.texts_to_matrix(features, mode='tfidf')"
   ]
  },
  {
   "cell_type": "markdown",
   "metadata": {},
   "source": [
    "## Understand the dimension\n",
    "\n",
    "- `input_dim`: dimension of the input paragraph/review\n",
    "  - remember each input `normalized_review` is transformed into a `1000` dimension vector by keras tokenizer\n",
    "  \n",
    "- `hidden_dim`: denotes the number of neurons in the hidden layer\n",
    "\n",
    "- `output_dim`: denotes the number of category"
   ]
  },
  {
   "cell_type": "code",
   "execution_count": 52,
   "metadata": {},
   "outputs": [],
   "source": [
    "input_dim = num_words\n",
    "hidden_dim = 100\n",
    "output_dim = 2"
   ]
  },
  {
   "cell_type": "code",
   "execution_count": 63,
   "metadata": {},
   "outputs": [],
   "source": [
    "# Building model\n",
    "\n",
    "class LinNet(nn.Module):\n",
    "    def __init__(self, input_dim, hidden_dim, output_dim):\n",
    "        super().__init__()\n",
    "        self.l1 = nn.Linear(input_dim, hidden_dim)\n",
    "        self.l2 = nn.Linear(hidden_dim, hidden_dim)\n",
    "        self.l3 = nn.Linear(hidden_dim, output_dim)\n",
    "        \n",
    "    def forward(self, x):\n",
    "        \n",
    "        # shape of X: (batch_size, input_dim)\n",
    "        out = F.relu(self.l1(x))\n",
    "        out = F.relu(self.l2(out))\n",
    "        out = self.l3(out)\n",
    "        \n",
    "        return out"
   ]
  },
  {
   "cell_type": "code",
   "execution_count": 64,
   "metadata": {},
   "outputs": [],
   "source": []
  },
  {
   "cell_type": "code",
   "execution_count": 66,
   "metadata": {},
   "outputs": [],
   "source": [
    "from sklearn.model_selection import train_test_split"
   ]
  },
  {
   "cell_type": "code",
   "execution_count": 67,
   "metadata": {},
   "outputs": [],
   "source": [
    "features_train, features_test, labels_train, labels_test = train_test_split(features, labels, shuffle=True, random_state=34)\n"
   ]
  },
  {
   "cell_type": "code",
   "execution_count": 100,
   "metadata": {},
   "outputs": [],
   "source": [
    "def train(epochs):\n",
    "    loss_hist = []\n",
    "    acc_hist = []\n",
    "    \n",
    "    x_train = Variable(torch.from_numpy(features_train)).float()\n",
    "    y_train = Variable(torch.from_numpy(labels_train)).long()\n",
    "    model.train()\n",
    "    for epoch in range(epochs):\n",
    "        optimizer.zero_grad()\n",
    "        y_pred = model(x_train)\n",
    "        loss = criterion(y_pred, y_train)\n",
    "        pred = torch.max(y_pred, 1)[1].eq(y_train).sum()\n",
    "        acc = float(pred)/float(len(x_train))\n",
    "        status = f\"epoch {epoch+1}/{epochs}\\tloss: {loss.item():.4}\\t acc: {acc:.4}\" \n",
    "        print(status)\n",
    "        loss_hist.append(np.round(loss.item(),4))\n",
    "        acc_hist.append(np.round(acc,2))\n",
    "        \n",
    "        loss.backward()\n",
    "        optimizer.step()\n",
    "\n",
    "    return loss_hist, acc_hist"
   ]
  },
  {
   "cell_type": "code",
   "execution_count": 110,
   "metadata": {},
   "outputs": [],
   "source": [
    "def test(epochs):\n",
    "    loss_hist = []\n",
    "    acc_hist = []\n",
    "    \n",
    "    model.eval()\n",
    "    x_test = Variable(torch.from_numpy(features_test)).float()\n",
    "    y_test = Variable(torch.from_numpy(labels_test)).long()\n",
    "    for epoch in range(epochs):\n",
    "        with torch.no_grad():\n",
    "            y_pred = model(x_test)\n",
    "            loss = criterion(y_pred, y_test)\n",
    "            pred = torch.max(y_pred, 1)[1].eq(y_test).sum()\n",
    "            \n",
    "            acc = float(pred)/float(len(x_test))\n",
    "            status = f\"epoch {epoch+1}/{epochs}\\tloss: {loss.item()}\\t acc: {acc} %\" \n",
    "            print(status)\n",
    "            \n",
    "            loss_hist.append(np.round(loss.item(),4))\n",
    "            acc_hist.append(np.round(acc,4))\n",
    "    \n",
    "    return loss_hist, acc_hist"
   ]
  },
  {
   "cell_type": "code",
   "execution_count": 104,
   "metadata": {},
   "outputs": [],
   "source": [
    "model = LinNet(input_dim, hidden_dim, output_dim)\n",
    "optimizer = torch.optim.Adam(model.parameters(), lr=0.01)\n",
    "criterion = nn.CrossEntropyLoss()"
   ]
  },
  {
   "cell_type": "code",
   "execution_count": 105,
   "metadata": {
    "scrolled": true
   },
   "outputs": [
    {
     "name": "stdout",
     "output_type": "stream",
     "text": [
      "epoch 0/100\tloss: 0.691\t acc: 0.5314\n",
      "epoch 1/100\tloss: 0.5422\t acc: 0.7898\n",
      "epoch 2/100\tloss: 0.6445\t acc: 0.7559\n",
      "epoch 3/100\tloss: 1.615\t acc: 0.5735\n",
      "epoch 4/100\tloss: 0.499\t acc: 0.7926\n",
      "epoch 5/100\tloss: 0.5271\t acc: 0.7665\n",
      "epoch 6/100\tloss: 0.657\t acc: 0.6785\n",
      "epoch 7/100\tloss: 0.6034\t acc: 0.6775\n",
      "epoch 8/100\tloss: 0.5468\t acc: 0.7199\n",
      "epoch 9/100\tloss: 0.5289\t acc: 0.7774\n",
      "epoch 10/100\tloss: 0.5261\t acc: 0.8299\n",
      "epoch 11/100\tloss: 0.5132\t acc: 0.8505\n",
      "epoch 12/100\tloss: 0.4822\t acc: 0.8539\n",
      "epoch 13/100\tloss: 0.4397\t acc: 0.855\n",
      "epoch 14/100\tloss: 0.4037\t acc: 0.8513\n",
      "epoch 15/100\tloss: 0.3826\t acc: 0.8488\n",
      "epoch 16/100\tloss: 0.3542\t acc: 0.8604\n",
      "epoch 17/100\tloss: 0.3521\t acc: 0.8549\n",
      "epoch 18/100\tloss: 0.3477\t acc: 0.8585\n",
      "epoch 19/100\tloss: 0.3411\t acc: 0.8655\n",
      "epoch 20/100\tloss: 0.3416\t acc: 0.8653\n",
      "epoch 21/100\tloss: 0.3274\t acc: 0.8697\n",
      "epoch 22/100\tloss: 0.3252\t acc: 0.8675\n",
      "epoch 23/100\tloss: 0.3117\t acc: 0.8723\n",
      "epoch 24/100\tloss: 0.3134\t acc: 0.8695\n",
      "epoch 25/100\tloss: 0.3044\t acc: 0.8723\n",
      "epoch 26/100\tloss: 0.3079\t acc: 0.8704\n",
      "epoch 27/100\tloss: 0.3016\t acc: 0.8734\n",
      "epoch 28/100\tloss: 0.3052\t acc: 0.8707\n",
      "epoch 29/100\tloss: 0.2997\t acc: 0.8757\n",
      "epoch 30/100\tloss: 0.302\t acc: 0.8736\n",
      "epoch 31/100\tloss: 0.2971\t acc: 0.8753\n",
      "epoch 32/100\tloss: 0.2985\t acc: 0.8745\n",
      "epoch 33/100\tloss: 0.294\t acc: 0.8763\n",
      "epoch 34/100\tloss: 0.2949\t acc: 0.8763\n",
      "epoch 35/100\tloss: 0.2909\t acc: 0.877\n",
      "epoch 36/100\tloss: 0.2916\t acc: 0.877\n",
      "epoch 37/100\tloss: 0.2882\t acc: 0.8777\n",
      "epoch 38/100\tloss: 0.2887\t acc: 0.8779\n",
      "epoch 39/100\tloss: 0.2856\t acc: 0.8785\n",
      "epoch 40/100\tloss: 0.2855\t acc: 0.8789\n",
      "epoch 41/100\tloss: 0.2824\t acc: 0.8801\n",
      "epoch 42/100\tloss: 0.2815\t acc: 0.8803\n",
      "epoch 43/100\tloss: 0.2788\t acc: 0.8809\n",
      "epoch 44/100\tloss: 0.277\t acc: 0.8815\n",
      "epoch 45/100\tloss: 0.2752\t acc: 0.8825\n",
      "epoch 46/100\tloss: 0.2726\t acc: 0.884\n",
      "epoch 47/100\tloss: 0.2714\t acc: 0.8833\n",
      "epoch 48/100\tloss: 0.2685\t acc: 0.8847\n",
      "epoch 49/100\tloss: 0.2671\t acc: 0.8858\n",
      "epoch 50/100\tloss: 0.2643\t acc: 0.8862\n",
      "epoch 51/100\tloss: 0.2616\t acc: 0.8871\n",
      "epoch 52/100\tloss: 0.2594\t acc: 0.8891\n",
      "epoch 53/100\tloss: 0.2565\t acc: 0.8893\n",
      "epoch 54/100\tloss: 0.2541\t acc: 0.89\n",
      "epoch 55/100\tloss: 0.2512\t acc: 0.8918\n",
      "epoch 56/100\tloss: 0.248\t acc: 0.8926\n",
      "epoch 57/100\tloss: 0.2451\t acc: 0.8942\n",
      "epoch 58/100\tloss: 0.242\t acc: 0.897\n",
      "epoch 59/100\tloss: 0.2387\t acc: 0.8978\n",
      "epoch 60/100\tloss: 0.2353\t acc: 0.8998\n",
      "epoch 61/100\tloss: 0.2318\t acc: 0.9015\n",
      "epoch 62/100\tloss: 0.2284\t acc: 0.9037\n",
      "epoch 63/100\tloss: 0.2245\t acc: 0.9058\n",
      "epoch 64/100\tloss: 0.2205\t acc: 0.9078\n",
      "epoch 65/100\tloss: 0.2164\t acc: 0.9094\n",
      "epoch 66/100\tloss: 0.2125\t acc: 0.9117\n",
      "epoch 67/100\tloss: 0.2088\t acc: 0.9131\n",
      "epoch 68/100\tloss: 0.2057\t acc: 0.9158\n",
      "epoch 69/100\tloss: 0.2037\t acc: 0.914\n",
      "epoch 70/100\tloss: 0.2002\t acc: 0.9185\n",
      "epoch 71/100\tloss: 0.1947\t acc: 0.9186\n",
      "epoch 72/100\tloss: 0.1877\t acc: 0.9242\n",
      "epoch 73/100\tloss: 0.1828\t acc: 0.9267\n",
      "epoch 74/100\tloss: 0.1792\t acc: 0.9273\n",
      "epoch 75/100\tloss: 0.1759\t acc: 0.9303\n",
      "epoch 76/100\tloss: 0.1718\t acc: 0.9301\n",
      "epoch 77/100\tloss: 0.1661\t acc: 0.9353\n",
      "epoch 78/100\tloss: 0.1609\t acc: 0.9359\n",
      "epoch 79/100\tloss: 0.1553\t acc: 0.9397\n",
      "epoch 80/100\tloss: 0.1505\t acc: 0.9425\n",
      "epoch 81/100\tloss: 0.1464\t acc: 0.9439\n",
      "epoch 82/100\tloss: 0.1427\t acc: 0.9461\n",
      "epoch 83/100\tloss: 0.1418\t acc: 0.9442\n",
      "epoch 84/100\tloss: 0.1438\t acc: 0.9444\n",
      "epoch 85/100\tloss: 0.1511\t acc: 0.936\n",
      "epoch 86/100\tloss: 0.1477\t acc: 0.9406\n",
      "epoch 87/100\tloss: 0.1252\t acc: 0.9532\n",
      "epoch 88/100\tloss: 0.1236\t acc: 0.9528\n",
      "epoch 89/100\tloss: 0.127\t acc: 0.9514\n",
      "epoch 90/100\tloss: 0.1128\t acc: 0.9593\n",
      "epoch 91/100\tloss: 0.1129\t acc: 0.9582\n",
      "epoch 92/100\tloss: 0.1105\t acc: 0.961\n",
      "epoch 93/100\tloss: 0.1003\t acc: 0.9663\n",
      "epoch 94/100\tloss: 0.101\t acc: 0.9639\n",
      "epoch 95/100\tloss: 0.09583\t acc: 0.9684\n",
      "epoch 96/100\tloss: 0.08896\t acc: 0.9722\n",
      "epoch 97/100\tloss: 0.08891\t acc: 0.9708\n",
      "epoch 98/100\tloss: 0.08306\t acc: 0.9741\n",
      "epoch 99/100\tloss: 0.07841\t acc: 0.976\n",
      "CPU times: user 1min 13s, sys: 16.6 s, total: 1min 29s\n",
      "Wall time: 30.2 s\n"
     ]
    }
   ],
   "source": [
    "%%time\n",
    "loss_hist, acc_hist = train(100)"
   ]
  },
  {
   "cell_type": "code",
   "execution_count": 109,
   "metadata": {
    "scrolled": true
   },
   "outputs": [
    {
     "name": "stdout",
     "output_type": "stream",
     "text": [
      "epoch 1/100\tloss: 0.6522384881973267\t acc: 0.83448 %\n",
      "epoch 2/100\tloss: 0.6522384881973267\t acc: 0.83448 %\n",
      "epoch 3/100\tloss: 0.6522384881973267\t acc: 0.83448 %\n",
      "epoch 4/100\tloss: 0.6522384881973267\t acc: 0.83448 %\n",
      "epoch 5/100\tloss: 0.6522384881973267\t acc: 0.83448 %\n",
      "epoch 6/100\tloss: 0.6522384881973267\t acc: 0.83448 %\n",
      "epoch 7/100\tloss: 0.6522384881973267\t acc: 0.83448 %\n",
      "epoch 8/100\tloss: 0.6522384881973267\t acc: 0.83448 %\n",
      "epoch 9/100\tloss: 0.6522384881973267\t acc: 0.83448 %\n",
      "epoch 10/100\tloss: 0.6522384881973267\t acc: 0.83448 %\n",
      "epoch 11/100\tloss: 0.6522384881973267\t acc: 0.83448 %\n",
      "epoch 12/100\tloss: 0.6522384881973267\t acc: 0.83448 %\n",
      "epoch 13/100\tloss: 0.6522384881973267\t acc: 0.83448 %\n",
      "epoch 14/100\tloss: 0.6522384881973267\t acc: 0.83448 %\n",
      "epoch 15/100\tloss: 0.6522384881973267\t acc: 0.83448 %\n",
      "epoch 16/100\tloss: 0.6522384881973267\t acc: 0.83448 %\n",
      "epoch 17/100\tloss: 0.6522384881973267\t acc: 0.83448 %\n",
      "epoch 18/100\tloss: 0.6522384881973267\t acc: 0.83448 %\n",
      "epoch 19/100\tloss: 0.6522384881973267\t acc: 0.83448 %\n",
      "epoch 20/100\tloss: 0.6522384881973267\t acc: 0.83448 %\n",
      "epoch 21/100\tloss: 0.6522384881973267\t acc: 0.83448 %\n",
      "epoch 22/100\tloss: 0.6522384881973267\t acc: 0.83448 %\n",
      "epoch 23/100\tloss: 0.6522384881973267\t acc: 0.83448 %\n",
      "epoch 24/100\tloss: 0.6522384881973267\t acc: 0.83448 %\n",
      "epoch 25/100\tloss: 0.6522384881973267\t acc: 0.83448 %\n",
      "epoch 26/100\tloss: 0.6522384881973267\t acc: 0.83448 %\n",
      "epoch 27/100\tloss: 0.6522384881973267\t acc: 0.83448 %\n",
      "epoch 28/100\tloss: 0.6522384881973267\t acc: 0.83448 %\n",
      "epoch 29/100\tloss: 0.6522384881973267\t acc: 0.83448 %\n",
      "epoch 30/100\tloss: 0.6522384881973267\t acc: 0.83448 %\n",
      "epoch 31/100\tloss: 0.6522384881973267\t acc: 0.83448 %\n",
      "epoch 32/100\tloss: 0.6522384881973267\t acc: 0.83448 %\n",
      "epoch 33/100\tloss: 0.6522384881973267\t acc: 0.83448 %\n",
      "epoch 34/100\tloss: 0.6522384881973267\t acc: 0.83448 %\n",
      "epoch 35/100\tloss: 0.6522384881973267\t acc: 0.83448 %\n",
      "epoch 36/100\tloss: 0.6522384881973267\t acc: 0.83448 %\n",
      "epoch 37/100\tloss: 0.6522384881973267\t acc: 0.83448 %\n",
      "epoch 38/100\tloss: 0.6522384881973267\t acc: 0.83448 %\n",
      "epoch 39/100\tloss: 0.6522384881973267\t acc: 0.83448 %\n",
      "epoch 40/100\tloss: 0.6522384881973267\t acc: 0.83448 %\n",
      "epoch 41/100\tloss: 0.6522384881973267\t acc: 0.83448 %\n",
      "epoch 42/100\tloss: 0.6522384881973267\t acc: 0.83448 %\n",
      "epoch 43/100\tloss: 0.6522384881973267\t acc: 0.83448 %\n",
      "epoch 44/100\tloss: 0.6522384881973267\t acc: 0.83448 %\n",
      "epoch 45/100\tloss: 0.6522384881973267\t acc: 0.83448 %\n",
      "epoch 46/100\tloss: 0.6522384881973267\t acc: 0.83448 %\n",
      "epoch 47/100\tloss: 0.6522384881973267\t acc: 0.83448 %\n",
      "epoch 48/100\tloss: 0.6522384881973267\t acc: 0.83448 %\n",
      "epoch 49/100\tloss: 0.6522384881973267\t acc: 0.83448 %\n",
      "epoch 50/100\tloss: 0.6522384881973267\t acc: 0.83448 %\n",
      "epoch 51/100\tloss: 0.6522384881973267\t acc: 0.83448 %\n",
      "epoch 52/100\tloss: 0.6522384881973267\t acc: 0.83448 %\n",
      "epoch 53/100\tloss: 0.6522384881973267\t acc: 0.83448 %\n",
      "epoch 54/100\tloss: 0.6522384881973267\t acc: 0.83448 %\n",
      "epoch 55/100\tloss: 0.6522384881973267\t acc: 0.83448 %\n",
      "epoch 56/100\tloss: 0.6522384881973267\t acc: 0.83448 %\n",
      "epoch 57/100\tloss: 0.6522384881973267\t acc: 0.83448 %\n",
      "epoch 58/100\tloss: 0.6522384881973267\t acc: 0.83448 %\n",
      "epoch 59/100\tloss: 0.6522384881973267\t acc: 0.83448 %\n",
      "epoch 60/100\tloss: 0.6522384881973267\t acc: 0.83448 %\n",
      "epoch 61/100\tloss: 0.6522384881973267\t acc: 0.83448 %\n",
      "epoch 62/100\tloss: 0.6522384881973267\t acc: 0.83448 %\n",
      "epoch 63/100\tloss: 0.6522384881973267\t acc: 0.83448 %\n",
      "epoch 64/100\tloss: 0.6522384881973267\t acc: 0.83448 %\n",
      "epoch 65/100\tloss: 0.6522384881973267\t acc: 0.83448 %\n",
      "epoch 66/100\tloss: 0.6522384881973267\t acc: 0.83448 %\n",
      "epoch 67/100\tloss: 0.6522384881973267\t acc: 0.83448 %\n",
      "epoch 68/100\tloss: 0.6522384881973267\t acc: 0.83448 %\n",
      "epoch 69/100\tloss: 0.6522384881973267\t acc: 0.83448 %\n",
      "epoch 70/100\tloss: 0.6522384881973267\t acc: 0.83448 %\n",
      "epoch 71/100\tloss: 0.6522384881973267\t acc: 0.83448 %\n",
      "epoch 72/100\tloss: 0.6522384881973267\t acc: 0.83448 %\n",
      "epoch 73/100\tloss: 0.6522384881973267\t acc: 0.83448 %\n",
      "epoch 74/100\tloss: 0.6522384881973267\t acc: 0.83448 %\n",
      "epoch 75/100\tloss: 0.6522384881973267\t acc: 0.83448 %\n",
      "epoch 76/100\tloss: 0.6522384881973267\t acc: 0.83448 %\n",
      "epoch 77/100\tloss: 0.6522384881973267\t acc: 0.83448 %\n",
      "epoch 78/100\tloss: 0.6522384881973267\t acc: 0.83448 %\n",
      "epoch 79/100\tloss: 0.6522384881973267\t acc: 0.83448 %\n",
      "epoch 80/100\tloss: 0.6522384881973267\t acc: 0.83448 %\n",
      "epoch 81/100\tloss: 0.6522384881973267\t acc: 0.83448 %\n",
      "epoch 82/100\tloss: 0.6522384881973267\t acc: 0.83448 %\n",
      "epoch 83/100\tloss: 0.6522384881973267\t acc: 0.83448 %\n",
      "epoch 84/100\tloss: 0.6522384881973267\t acc: 0.83448 %\n",
      "epoch 85/100\tloss: 0.6522384881973267\t acc: 0.83448 %\n",
      "epoch 86/100\tloss: 0.6522384881973267\t acc: 0.83448 %\n",
      "epoch 87/100\tloss: 0.6522384881973267\t acc: 0.83448 %\n",
      "epoch 88/100\tloss: 0.6522384881973267\t acc: 0.83448 %\n",
      "epoch 89/100\tloss: 0.6522384881973267\t acc: 0.83448 %\n",
      "epoch 90/100\tloss: 0.6522384881973267\t acc: 0.83448 %\n",
      "epoch 91/100\tloss: 0.6522384881973267\t acc: 0.83448 %\n",
      "epoch 92/100\tloss: 0.6522384881973267\t acc: 0.83448 %\n",
      "epoch 93/100\tloss: 0.6522384881973267\t acc: 0.83448 %\n",
      "epoch 94/100\tloss: 0.6522384881973267\t acc: 0.83448 %\n",
      "epoch 95/100\tloss: 0.6522384881973267\t acc: 0.83448 %\n",
      "epoch 96/100\tloss: 0.6522384881973267\t acc: 0.83448 %\n",
      "epoch 97/100\tloss: 0.6522384881973267\t acc: 0.83448 %\n",
      "epoch 98/100\tloss: 0.6522384881973267\t acc: 0.83448 %\n",
      "epoch 99/100\tloss: 0.6522384881973267\t acc: 0.83448 %\n",
      "epoch 100/100\tloss: 0.6522384881973267\t acc: 0.83448 %\n"
     ]
    }
   ],
   "source": [
    "test_loss_hist, test_acc_hist = test(100)"
   ]
  },
  {
   "cell_type": "code",
   "execution_count": 116,
   "metadata": {},
   "outputs": [
    {
     "data": {
      "text/plain": [
       "Text(0, 0.5, 'loss')"
      ]
     },
     "execution_count": 116,
     "metadata": {},
     "output_type": "execute_result"
    },
    {
     "data": {
      "image/png": "[encoded data removed]",
      "text/plain": [
       "<Figure size 432x288 with 1 Axes>"
      ]
     },
     "metadata": {
      "needs_background": "light"
     },
     "output_type": "display_data"
    }
   ],
   "source": [
    "plt.figure()\n",
    "plt.plot(loss_hist, label = \"train loss\")\n",
    "plt.plot(acc_hist ,label=\"train acc\")\n",
    "plt.legend()\n",
    "plt.xlabel(\"values\")\n",
    "plt.grid(alpha=0.3)\n",
    "plt.ylabel(\"loss\")"
   ]
  },
  {
   "cell_type": "code",
   "execution_count": null,
   "metadata": {},
   "outputs": [],
   "source": []
  }
 ],
 "metadata": {
  "hide_input": false,
  "kernelspec": {
   "display_name": "Python [conda env:py36]",
   "language": "python",
   "name": "conda-env-py36-py"
  },
  "language_info": {
   "codemirror_mode": {
    "name": "ipython",
    "version": 3
   },
   "file_extension": ".py",
   "mimetype": "text/x-python",
   "name": "python",
   "nbconvert_exporter": "python",
   "pygments_lexer": "ipython3",
   "version": "3.6.8"
  },
  "toc": {
   "base_numbering": 1,
   "nav_menu": {},
   "number_sections": true,
   "sideBar": true,
   "skip_h1_title": false,
   "title_cell": "Table of Contents",
   "title_sidebar": "Contents",
   "toc_cell": false,
   "toc_position": {},
   "toc_section_display": true,
   "toc_window_display": false
  },
  "varInspector": {
   "cols": {
    "lenName": 16,
    "lenType": 16,
    "lenVar": 40
   },
   "kernels_config": {
    "python": {
     "delete_cmd_postfix": "",
     "delete_cmd_prefix": "del ",
     "library": "var_list.py",
     "varRefreshCmd": "print(var_dic_list())"
    },
    "r": {
     "delete_cmd_postfix": ") ",
     "delete_cmd_prefix": "rm(",
     "library": "var_list.r",
     "varRefreshCmd": "cat(var_dic_list()) "
    }
   },
   "types_to_exclude": [
    "module",
    "function",
    "builtin_function_or_method",
    "instance",
    "_Feature"
   ],
   "window_display": false
  }
 },
 "nbformat": 4,
 "nbformat_minor": 2
}
